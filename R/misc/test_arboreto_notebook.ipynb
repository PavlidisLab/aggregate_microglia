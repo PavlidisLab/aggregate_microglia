{
 "cells": [
  {
   "cell_type": "code",
   "execution_count": null,
   "metadata": {},
   "outputs": [],
   "source": [
    "import pandas as pd\n",
    "import numpy as np\n",
    "import random\n",
    "import time\n",
    "import scipy.sparse\n",
    "from arboreto.algo import grnboost2\n",
    "from distributed import Client, LocalCluster\n",
    "\n",
    "tfs_path = \"/home/amorin/Data/Metadata/TFs_human.tsv\"\n",
    "mat_dense_path = \"/space/scratch/amorin/R_objects/GSE180928_mcg_filt.tsv\"\n",
    "mat_sparse_path = \"/space/scratch/amorin/R_objects/GSE180928_mcg_filt.mtx\"\n",
    "\n",
    "local_cluster = LocalCluster(n_workers=8, threads_per_worker=1)\n",
    "custom_client = Client(local_cluster)"
   ]
  },
  {
   "cell_type": "code",
   "execution_count": null,
   "metadata": {},
   "outputs": [],
   "source": [
    "tfs = pd.read_table(tfs_path)[\"Symbol\"].tolist()\n",
    "mat_dense = pd.read_table(mat_dense_path, index_col = 0)\n",
    "mat_sparse = scipy.io.mmread(mat_sparse_path).tocsc()  # CSC needed for arboreto"
   ]
  },
  {
   "cell_type": "code",
   "execution_count": null,
   "metadata": {},
   "outputs": [],
   "source": [
    "# Random subset for speed\n",
    "random.seed(5)\n",
    "samp_ix = random.sample(range(mat_dense.shape[1]), 5000)\n",
    "mat_dense_sub = mat_dense.iloc[:, samp_ix]\n",
    "mat_sparse_sub = mat_sparse[:, samp_ix]\n",
    "tfs_sub = set(tfs).intersection(mat_dense_sub.columns)\n",
    "genes_sub = mat_dense_sub.columns.tolist()"
   ]
  },
  {
   "cell_type": "code",
   "execution_count": null,
   "metadata": {},
   "outputs": [],
   "source": [
    "# Checking first column as numpy array to ensure equality\n",
    "d0 = mat_dense_sub.iloc[:, 0].values\n",
    "s0 = mat_sparse_sub[:, 0].toarray().ravel()\n",
    "all(np.isclose(d0, s0))"
   ]
  },
  {
   "cell_type": "code",
   "execution_count": null,
   "metadata": {},
   "outputs": [],
   "source": [
    "start = time.time()\n",
    "\n",
    "network_dense = grnboost2(expression_data=mat_dense_sub, \n",
    "                          tf_names=tfs_sub,\n",
    "                          seed=4,\n",
    "                          client_or_address=custom_client)\n",
    "\n",
    "end = time.time()\n",
    "\n",
    "print(end - start)"
   ]
  },
  {
   "cell_type": "code",
   "execution_count": null,
   "metadata": {},
   "outputs": [],
   "source": [
    "start = time.time()\n",
    "\n",
    "network_sparse = grnboost2(expression_data=mat_sparse_sub, \n",
    "                           tf_names=tfs_sub,\n",
    "                           gene_names=genes_sub,\n",
    "                           seed=4,\n",
    "                           client_or_address=custom_client)\n",
    "\n",
    "end = time.time()\n",
    "\n",
    "print(end - start)"
   ]
  },
  {
   "cell_type": "code",
   "execution_count": null,
   "metadata": {},
   "outputs": [],
   "source": [
    "network_dense"
   ]
  },
  {
   "cell_type": "code",
   "execution_count": null,
   "metadata": {},
   "outputs": [],
   "source": [
    "network_sparse"
   ]
  },
  {
   "cell_type": "code",
   "execution_count": null,
   "metadata": {},
   "outputs": [],
   "source": [
    "ix = np.isclose(network_dense[\"importance\"].tolist(), \n",
    "                network_sparse[\"importance\"].tolist())"
   ]
  },
  {
   "cell_type": "code",
   "execution_count": null,
   "metadata": {},
   "outputs": [],
   "source": [
    "network_dense.iloc[~ix, :]"
   ]
  },
  {
   "cell_type": "code",
   "execution_count": null,
   "metadata": {},
   "outputs": [],
   "source": [
    "network_sparse.iloc[~ix, :]"
   ]
  }
 ],
 "metadata": {
  "kernelspec": {
   "display_name": "agg",
   "language": "python",
   "name": "python3"
  },
  "language_info": {
   "codemirror_mode": {
    "name": "ipython",
    "version": 3
   },
   "file_extension": ".py",
   "mimetype": "text/x-python",
   "name": "python",
   "nbconvert_exporter": "python",
   "pygments_lexer": "ipython3",
   "version": "3.10.15"
  }
 },
 "nbformat": 4,
 "nbformat_minor": 2
}
