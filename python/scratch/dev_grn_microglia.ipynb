{
 "cells": [
  {
   "cell_type": "code",
   "execution_count": 1,
   "metadata": {},
   "outputs": [],
   "source": [
    "import pandas as pd\n",
    "import numpy as np\n",
    "from pathlib import Path\n",
    "from arboreto.algo import grnboost2\n",
    "from dask.distributed import Client, LocalCluster\n",
    "import scipy.sparse\n",
    "import utils\n",
    "import rds2py\n",
    "import os.path\n",
    "import datetime\n",
    "import dask.array\n",
    "\n",
    "n_workers=20\n",
    "n_iter=100\n",
    "\n",
    "mcg_dat_path = \"/space/scratch/amorin/aggregate_microglia/microglia_dat_list.RDS\"\n",
    "mcg_meta_path = \"/space/scratch/amorin/aggregate_microglia/microglia_metadata_dedup.tsv\"\n",
    "pc_hg_path = \"/home/amorin/Data/Metadata/refseq_select_hg38.tsv\"\n",
    "pc_mm_path = \"/home/amorin/Data/Metadata/refseq_select_mm10.tsv\"\n",
    "tfs_hg_path = \"/home/amorin/Data/Metadata/TFs_human.tsv\"\n",
    "tfs_mm_path = \"/home/amorin/Data/Metadata/TFs_mouse.tsv\"\n",
    "\n",
    "out_dir = \"/space/scratch/amorin/aggregate_microglia/GRNBoost2\"\n",
    "Path(out_dir).mkdir(exist_ok=True)"
   ]
  },
  {
   "cell_type": "code",
   "execution_count": null,
   "metadata": {},
   "outputs": [],
   "source": [
    "local_cluster = LocalCluster(n_workers=n_workers, threads_per_worker=1)\n",
    "custom_client = Client(local_cluster)"
   ]
  },
  {
   "cell_type": "code",
   "execution_count": 2,
   "metadata": {},
   "outputs": [],
   "source": [
    "mcg_meta = pd.read_table(mcg_meta_path)\n",
    "pc_hg = pd.read_table(pc_hg_path)\n",
    "pc_mm = pd.read_table(pc_mm_path)\n",
    "tfs_hg = pd.read_table(tfs_hg_path)\n",
    "tfs_mm = pd.read_table(tfs_mm_path)"
   ]
  },
  {
   "cell_type": "code",
   "execution_count": 9,
   "metadata": {},
   "outputs": [],
   "source": [
    "ids_hg = mcg_meta[mcg_meta.Species == \"Human\"][\"ID\"].tolist()\n",
    "ids_mm = mcg_meta[mcg_meta.Species == \"Mouse\"][\"ID\"].tolist()"
   ]
  },
  {
   "cell_type": "code",
   "execution_count": 12,
   "metadata": {},
   "outputs": [],
   "source": [
    "ids_mm = ids_mm.reverse()"
   ]
  },
  {
   "cell_type": "code",
   "execution_count": null,
   "metadata": {},
   "outputs": [],
   "source": [
    "print(ids_mm)"
   ]
  },
  {
   "cell_type": "code",
   "execution_count": null,
   "metadata": {},
   "outputs": [],
   "source": [
    "def iter_grnboost2(mat, genes, tfs, n_iter, out_dir, client):\n",
    "    \n",
    "    for i in range(n_iter):\n",
    "        \n",
    "        network = grnboost2(expression_data=mat, \n",
    "                            tf_names=tfs,\n",
    "                            gene_names=genes,\n",
    "                            seed=i,\n",
    "                            client_or_address=client)\n",
    "        \n",
    "        file_path = Path(out_dir, f\"GRNBoost2_TFonly_iter{i}.tsv\")\n",
    "        network.to_csv(file_path, sep=\"\\t\", header=False, index=False)\n",
    "        \n",
    "    return None"
   ]
  },
  {
   "cell_type": "code",
   "execution_count": null,
   "metadata": {},
   "outputs": [],
   "source": [
    "def iter_grnboost2_over_list(dat_list, \n",
    "                             ids, \n",
    "                             gene_df, \n",
    "                             tf_df, \n",
    "                             n_iter, \n",
    "                             out_root, \n",
    "                             client):\n",
    "    \n",
    "    for id in ids:\n",
    "        \n",
    "        print(f\"{id}\", datetime.datetime.now())\n",
    "        out_dir = Path(out_root, id)\n",
    "        out_dir.mkdir(exist_ok=True)\n",
    "\n",
    "        mat = dat_list[id][\"Mat\"]\n",
    "        keep_ix = mat.getnnz(axis=1) >= 20  # keep genes measured in 20+ cells\n",
    "        mat_sub = mat[keep_ix, ].T  # to cells by genes\n",
    "        genes_sub = gene_df.iloc[keep_ix][\"Symbol\"].tolist()\n",
    "        tfs_sub = list(set(genes_sub).intersection(tf_df[\"Symbol\"]))\n",
    "\n",
    "        iter_grnboost2(mat_sub, genes_sub, tfs_sub, n_iter, out_dir, client)\n",
    "\n",
    "    return None"
   ]
  },
  {
   "cell_type": "code",
   "execution_count": null,
   "metadata": {},
   "outputs": [],
   "source": [
    "mcg_dat = rds2py.read_rds(mcg_dat_path)"
   ]
  },
  {
   "cell_type": "code",
   "execution_count": null,
   "metadata": {},
   "outputs": [],
   "source": [
    "mat = mcg_dat[\"GSE180928\"][\"Mat\"]  # CSC mat\n",
    "ix = mat.getnnz(axis=1) >= 20"
   ]
  },
  {
   "cell_type": "code",
   "execution_count": null,
   "metadata": {},
   "outputs": [],
   "source": [
    "# mat = pd.DataFrame.sparse.from_spmatrix(mat)  # So slow\n",
    "# ix = mat_df.index[(mat_df > 0).sum(axis=1) >= 20]  "
   ]
  },
  {
   "cell_type": "code",
   "execution_count": null,
   "metadata": {},
   "outputs": [],
   "source": [
    "# mat = mat.toarray()  # np array fast but not quite as fast as sparse\n",
    "# ix = np.sum(mat > 0, axis=1) >= 20"
   ]
  },
  {
   "cell_type": "code",
   "execution_count": null,
   "metadata": {},
   "outputs": [],
   "source": [
    "mat_sub = mat[ix, ].T\n",
    "# mat_sub = dask.array.from_array(mat_sub)  # Don't think this helps\n",
    "genes_sub = pc_hg.iloc[ix][\"Symbol\"].tolist()\n",
    "tfs_sub = list(set(genes_sub).intersection(tfs_hg[\"Symbol\"]))"
   ]
  },
  {
   "cell_type": "code",
   "execution_count": null,
   "metadata": {},
   "outputs": [],
   "source": [
    "network = grnboost2(expression_data=mat_sub, \n",
    "                    tf_names=tfs_sub,\n",
    "                    gene_names=genes_sub,\n",
    "                    seed=5,\n",
    "                    client_or_address=custom_client)"
   ]
  },
  {
   "cell_type": "code",
   "execution_count": null,
   "metadata": {},
   "outputs": [],
   "source": [
    "iter_grnboost2_over_list(dat_list=mcg_dat, \n",
    "                         ids = [ids_hg[0]], \n",
    "                         gene_df=pc_hg, \n",
    "                         tf_df=tfs_hg, \n",
    "                         n_iter=1,\n",
    "                         out_root=out_dir,\n",
    "                         client=custom_client)"
   ]
  },
  {
   "cell_type": "code",
   "execution_count": null,
   "metadata": {},
   "outputs": [],
   "source": [
    "network.head()"
   ]
  },
  {
   "cell_type": "code",
   "execution_count": 27,
   "metadata": {},
   "outputs": [],
   "source": [
    "custom_client.close()\n",
    "local_cluster.close()"
   ]
  }
 ],
 "metadata": {
  "kernelspec": {
   "display_name": "agg",
   "language": "python",
   "name": "python3"
  },
  "language_info": {
   "codemirror_mode": {
    "name": "ipython",
    "version": 3
   },
   "file_extension": ".py",
   "mimetype": "text/x-python",
   "name": "python",
   "nbconvert_exporter": "python",
   "pygments_lexer": "ipython3",
   "version": "3.10.15"
  }
 },
 "nbformat": 4,
 "nbformat_minor": 2
}
