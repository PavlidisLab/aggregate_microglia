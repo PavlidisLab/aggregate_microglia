{
 "cells": [
  {
   "cell_type": "code",
   "execution_count": 1,
   "metadata": {},
   "outputs": [],
   "source": [
    "import pandas as pd\n",
    "import numpy as np\n",
    "import matplotlib as matplot\n",
    "\n",
    "path_hg = \"/space/scratch/amorin/aggregate_microglia/microglia_gene_count_summary_hg.tsv\"\n",
    "path_mm = \"/space/scratch/amorin/aggregate_microglia/microglia_gene_count_summary_mm.tsv\"\n",
    "pc_hg_path = \"/home/amorin/Data/Metadata/refseq_select_hg38.tsv\"\n",
    "pc_mm_path = \"/home/amorin/Data/Metadata/refseq_select_mm10.tsv\"\n",
    "pc_ortho_path = \"/home/amorin/Data/Metadata/hg_mm_1to1_ortho_genes_DIOPT-v8.tsv\"\n",
    "\n",
    "df_hg = pd.read_csv(path_hg, sep = \"\\t\")\n",
    "df_mm = pd.read_csv(path_mm, sep = \"\\t\")\n",
    "\n",
    "pc_hg = pd.read_csv(pc_hg_path, sep = \"\\t\")\n",
    "pc_mm = pd.read_csv(pc_mm_path, sep = \"\\t\")\n",
    "pc_ortho = pd.read_csv(pc_ortho_path, sep = \"\\t\")"
   ]
  },
  {
   "cell_type": "code",
   "execution_count": 2,
   "metadata": {},
   "outputs": [
    {
     "name": "stdout",
     "output_type": "stream",
     "text": [
      "   Symbol       Avg  Med        SD         CV      Avg_rank       RP  N_msr\n",
      "0   OR4F5  0.000000  0.0  0.000000        NaN  14511.444444  18719.5      0\n",
      "1  OR4F29  0.000000  0.0  0.000000        NaN  14511.444444  18719.5      0\n",
      "2  OR4F16  0.000000  0.0  0.000000        NaN  14511.444444  18719.5      0\n",
      "3  SAMD11  0.210281  0.0  0.831816  19.477430  11276.777778  11655.0      3\n",
      "4   NOC2L  0.617246  0.0  2.052734   4.189272   5465.333333   5412.0     14\n",
      "   Symbol       Avg  Med        SD         CV      Avg_rank       RP  N_msr\n",
      "0    Xkr4  0.644948  0.0  1.010673  23.765463   9947.931818   7513.0     17\n",
      "1     Rp1  0.017717  0.0  0.169761  55.016974  13411.931818  15021.0      4\n",
      "2   Sox17  0.014261  0.0  0.247486  30.991440  12520.840909  13744.0      7\n",
      "3  Mrpl15  1.175056  0.0  2.519399   3.050234   4140.204545   3686.0     39\n",
      "4  Lypla1  0.824190  0.0  2.098785   4.952570   5788.886364   5207.0     33\n"
     ]
    }
   ],
   "source": [
    "print(df_hg.head())\n",
    "print(df_mm.head())"
   ]
  },
  {
   "cell_type": "code",
   "execution_count": 3,
   "metadata": {},
   "outputs": [],
   "source": [
    "# Min gene filter: require genes have minimal measurement, average, and var\n",
    "\n",
    "def filter_by_quantile(df, qtl = 0.25):\n",
    "    df = df[(df.Avg > df.Avg.quantile(qtl)) & \n",
    "            (df.SD > df.SD.quantile(qtl)) & \n",
    "            (df.N_msr > df.N_msr.quantile(qtl))\n",
    "    ]\n",
    "    return df\n",
    "\n",
    "\n",
    "# Showing complex: unecessary as min msr covers case of 0 avg/sd\n",
    "# filt_df_hg = df_hg[(df_hg.Avg > 0) & (df_hg.SD > 0) & (df_hg.N_msr > 5)]\n",
    "\n",
    "# Using query\n",
    "# filt_df_hg = df_hg.query(\"Avg > 0 and SD > 0 and N_msr > 3\")\n",
    "\n",
    "# Separated out\n",
    "# avg_filter = df_hg[df_hg.Avg == 0]\n",
    "# sd_filter = df_hg[df_hg.Avg == 0]\n",
    "# msr_filter = df_hg[df_hg.N_msr < 3]\n",
    "\n",
    "\n",
    "# Stepping from 0 to 1 in 0.1 increments while including both 0 and 1\n",
    "# df_hg.Avg.quantile(np.linspace(0, 1, 11))\n",
    "# df_hg.Avg.quantile(np.arange(0, 1.1, 0.1))"
   ]
  },
  {
   "cell_type": "code",
   "execution_count": 4,
   "metadata": {},
   "outputs": [],
   "source": [
    "filt_df_hg = filter_by_quantile(df_hg)\n",
    "filt_df_mm = filter_by_quantile(df_mm)"
   ]
  },
  {
   "cell_type": "code",
   "execution_count": 5,
   "metadata": {},
   "outputs": [
    {
     "name": "stdout",
     "output_type": "stream",
     "text": [
      "                Avg           Med            SD            CV      Avg_rank  \\\n",
      "count  13832.000000  13832.000000  13832.000000  13832.000000  13832.000000   \n",
      "mean       0.822824      0.064377      1.777124      7.498131   7020.493762   \n",
      "std        0.971497      0.659355      0.916245      5.843420   3274.852074   \n",
      "min        0.029316      0.000000      0.307692      0.545209    122.166667   \n",
      "25%        0.194690      0.000000      1.009801      3.390472   4372.083333   \n",
      "50%        0.484524      0.000000      1.689505      5.380399   6972.444444   \n",
      "75%        1.061940      0.000000      2.441539      9.968310   9822.902778   \n",
      "max        9.147457     10.794115      4.502083     48.978862  13251.166667   \n",
      "\n",
      "                 RP         N_msr  \n",
      "count  13832.000000  13832.000000  \n",
      "mean    6925.484673     11.519809  \n",
      "std     4007.794940      4.030993  \n",
      "min        1.000000      3.000000  \n",
      "25%     3458.750000      9.000000  \n",
      "50%     6916.500000     12.000000  \n",
      "75%    10374.250000     15.000000  \n",
      "max    14765.000000     18.000000  \n",
      "                Avg           Med            SD            CV      Avg_rank  \\\n",
      "count  15043.000000  15043.000000  15043.000000  15043.000000  15043.000000   \n",
      "mean       0.865741      0.210573      1.652832     11.036681   7471.220560   \n",
      "std        1.173446      1.338956      1.056823     11.592061   3632.623109   \n",
      "min        0.005849      0.000000      0.096713      0.279006     74.000000   \n",
      "25%        0.122586      0.000000      0.698438      3.289443   4417.511364   \n",
      "50%        0.454910      0.000000      1.570755      5.605976   7462.750000   \n",
      "75%        1.137038      0.000000      2.492033     14.923798  10650.215909   \n",
      "max       12.534004     14.564944      4.114005     78.046433  13858.250000   \n",
      "\n",
      "                 RP         N_msr  \n",
      "count  15043.000000  15043.000000  \n",
      "mean    7528.859071     28.422389  \n",
      "std     4354.520225     11.586933  \n",
      "min        1.000000      3.000000  \n",
      "25%     3761.500000     20.000000  \n",
      "50%     7522.000000     33.000000  \n",
      "75%    11282.500000     38.000000  \n",
      "max    15984.000000     44.000000  \n"
     ]
    },
    {
     "data": {
      "text/plain": [
       "<Axes: >"
      ]
     },
     "execution_count": 5,
     "metadata": {},
     "output_type": "execute_result"
    },
    {
     "data": {
      "image/png": "[encoded data removed]",
      "text/plain": [
       "<Figure size 640x480 with 1 Axes>"
      ]
     },
     "metadata": {},
     "output_type": "display_data"
    }
   ],
   "source": [
    "print(filt_df_hg.describe())\n",
    "print(filt_df_mm.describe())\n",
    "filt_df_hg.CV.hist()"
   ]
  },
  {
   "cell_type": "code",
   "execution_count": 6,
   "metadata": {},
   "outputs": [],
   "source": [
    "# Most variable genes that are still \"appreciably\" expressed\n",
    "# NOTE: CV looks wrong?\n",
    "\n",
    "topvar_hg = filt_df_hg[filt_df_hg.Avg > 1].nlargest(1000, \"CV\")\n",
    "topvar_mm = filt_df_mm[filt_df_mm.Avg > 1].nlargest(1000, \"CV\")"
   ]
  },
  {
   "cell_type": "code",
   "execution_count": 7,
   "metadata": {},
   "outputs": [
    {
     "name": "stdout",
     "output_type": "stream",
     "text": [
      "        Symbol       Avg  Med        SD         CV      Avg_rank      RP  \\\n",
      "14613    RCVRN  1.381452  0.0  1.480738  34.412143   9949.444444  5420.0   \n",
      "3537     GNAT1  1.068848  0.0  1.312051  24.665757  10654.833333  6953.0   \n",
      "7433   SLC26A3  1.187698  0.0  1.406995  19.709477   9725.444444  4251.0   \n",
      "15471    PDE6G  1.587247  0.0  1.657047  18.085948   9051.833333  4564.0   \n",
      "3132       SAG  1.610722  0.0  1.653839  18.082229   9171.888889  4632.0   \n",
      "...        ...       ...  ...       ...        ...           ...     ...   \n",
      "7373    TRIM56  1.041535  0.0  2.597435   3.071401   3639.444444  3212.0   \n",
      "3614   SELENOK  2.244717  0.0  2.604510   3.071037   5334.611111  2106.0   \n",
      "8022    CHCHD7  1.510163  0.0  2.789254   3.068509   3499.111111  2382.0   \n",
      "15463  NDUFAF8  1.195121  0.0  2.304253   3.068468   5577.500000  3817.0   \n",
      "9938     NUP98  1.212469  0.0  2.498153   3.068324   3971.000000  2953.0   \n",
      "\n",
      "       N_msr  \n",
      "14613      6  \n",
      "3537       6  \n",
      "7433       6  \n",
      "15471      9  \n",
      "3132      10  \n",
      "...      ...  \n",
      "7373      15  \n",
      "3614      14  \n",
      "8022      15  \n",
      "15463     13  \n",
      "9938      15  \n",
      "\n",
      "[1000 rows x 8 columns]\n",
      "         Symbol       Avg  Med        SD         CV     Avg_rank      RP  \\\n",
      "15844      Nrg3  1.164131  0.0  0.914464  25.242637  9843.772727  5155.0   \n",
      "16372     Fgf14  1.117689  0.0  1.080786  19.864829  9318.681818  5013.0   \n",
      "20479  Il1rapl1  1.019384  0.0  1.114116  18.729387  9008.204545  5412.0   \n",
      "11788    Nkain2  1.175480  0.0  1.236709  18.032472  8708.727273  4505.0   \n",
      "9534      Csmd1  1.104465  0.0  1.000662  16.024456  9160.136364  5042.0   \n",
      "...         ...       ...  ...       ...        ...          ...     ...   \n",
      "2970      Armc1  1.057453  0.0  2.538399   3.128391  4103.113636  3914.0   \n",
      "8193      Pdcd5  1.947056  0.0  2.904066   3.128016  3462.431818  2089.0   \n",
      "19118    Zfp608  1.291595  0.0  2.629804   3.126796  4204.977273  3131.0   \n",
      "8998       Ipo7  1.248635  0.0  2.646026   3.126463  3801.295455  3378.0   \n",
      "3262       Naxe  1.073172  0.0  1.835063   3.126453  7061.000000  5253.0   \n",
      "\n",
      "       N_msr  \n",
      "15844     18  \n",
      "16372     19  \n",
      "20479     25  \n",
      "11788     26  \n",
      "9534      24  \n",
      "...      ...  \n",
      "2970      39  \n",
      "8193      40  \n",
      "19118     37  \n",
      "8998      37  \n",
      "3262      26  \n",
      "\n",
      "[1000 rows x 8 columns]\n"
     ]
    }
   ],
   "source": [
    "print(topvar_hg)\n",
    "print(topvar_mm)"
   ]
  },
  {
   "cell_type": "code",
   "execution_count": 8,
   "metadata": {},
   "outputs": [
    {
     "name": "stdout",
     "output_type": "stream",
     "text": [
      "True\n",
      "True\n"
     ]
    }
   ],
   "source": [
    "# Compare orthology by using case matching, comparing it to the actual 1:1\n",
    "\n",
    "symbol_hg = pc_hg.Symbol\n",
    "symbol_mm = pc_mm.Symbol\n",
    "\n",
    "print(all(df_hg.Symbol.isin(symbol_hg)))\n",
    "print(all(df_mm.Symbol.isin(symbol_mm)))"
   ]
  },
  {
   "cell_type": "code",
   "execution_count": 14,
   "metadata": {},
   "outputs": [
    {
     "name": "stdout",
     "output_type": "stream",
     "text": [
      "1         OR4F5\n",
      "2        OR4F29\n",
      "3        OR4F16\n",
      "9          HES4\n",
      "21       SCNN1D\n",
      "          ...  \n",
      "19209     BPY2B\n",
      "19210      DAZ3\n",
      "19211      DAZ4\n",
      "19212     BPY2C\n",
      "19213      CDY1\n",
      "Name: Symbol, Length: 2514, dtype: object\n",
      "21            Sgk3\n",
      "69           Gsta3\n",
      "70          Khdc1a\n",
      "75       Ppp1r14bl\n",
      "84         Gm20172\n",
      "           ...    \n",
      "20967      Gm20917\n",
      "20968      Gm21242\n",
      "20969      Gm21394\n",
      "20970      Gm20854\n",
      "20971      Gm21838\n",
      "Name: Symbol, Length: 4253, dtype: object\n"
     ]
    }
   ],
   "source": [
    "hg_not_ortho = symbol_hg[~symbol_hg.isin(pc_ortho.Symbol_hg)]\n",
    "mm_not_ortho = symbol_mm[~symbol_mm.isin(pc_ortho.Symbol_mm)]\n",
    "print(hg_not_ortho)\n",
    "print(mm_not_ortho)"
   ]
  },
  {
   "cell_type": "code",
   "execution_count": 13,
   "metadata": {},
   "outputs": [
    {
     "name": "stdout",
     "output_type": "stream",
     "text": [
      "      Symbol_hg      Symbol_mm                      ID\n",
      "2669      MYLPF          Mylpf             MYLPF_Mylpf\n",
      "6808    GPATCH4        Gpatch4         GPATCH4_Gpatch4\n",
      "6896     EFCAB1         Efcab1           EFCAB1_Efcab1\n",
      "8104   C9orf116  1700007K13Rik  C9orf116_1700007K13Rik\n",
      "8264   C11orf53  1810046K07Rik  C11orf53_1810046K07Rik\n",
      "8561     FAM71D         Fam71d           FAM71D_Fam71d\n",
      "9822    FAM71E1        Fam71e1         FAM71E1_Fam71e1\n",
      "13175     ZADH2          Zadh2             ZADH2_Zadh2\n",
      "13391  C11orf49  1110051M20Rik  C11orf49_1110051M20Rik\n",
      "13739   C7orf26  E130309D02Rik   C7orf26_E130309D02Rik\n",
      "14564   FAM71E2        Fam71e2         FAM71E2_Fam71e2\n",
      "14717   FAM71F2        Fam71f2         FAM71F2_Fam71f2\n",
      "15732   FAM71F1        Fam71f1         FAM71F1_Fam71f1\n",
      "15809   TMEM211        Tmem211         TMEM211_Tmem211\n",
      "16211  C19orf71  4930404N11Rik  C19orf71_4930404N11Rik\n",
      "16217    FAM71B         Fam71b           FAM71B_Fam71b\n",
      "16384  C15orf65        Ccpg1os        C15orf65_Ccpg1os\n",
      "16408    FAM71A         Fam71a           FAM71A_Fam71a\n",
      "16704     LMLN2        Gm29776           LMLN2_Gm29776\n",
      "Empty DataFrame\n",
      "Columns: [Symbol_hg, Symbol_mm, ID]\n",
      "Index: []\n"
     ]
    }
   ],
   "source": [
    "ortho_not_hg = pc_ortho[~pc_ortho.Symbol_hg.isin(symbol_hg)]\n",
    "ortho_not_mm = pc_ortho[~pc_ortho.Symbol_mm.isin(symbol_mm)]\n",
    "print(ortho_not_hg)\n",
    "print(ortho_not_mm)"
   ]
  },
  {
   "cell_type": "code",
   "execution_count": 29,
   "metadata": {},
   "outputs": [],
   "source": [
    "case_hg = symbol_hg.str.title().isin(symbol_mm)\n",
    "case_in_hg = symbol_hg[case_hg]\n",
    "case_out_hg = symbol_hg[~case_hg]"
   ]
  },
  {
   "cell_type": "code",
   "execution_count": 31,
   "metadata": {},
   "outputs": [],
   "source": [
    "case_mm = symbol_mm.str.upper().isin(symbol_hg)\n",
    "case_in_mm = symbol_mm[case_mm]\n",
    "case_out_mm = symbol_mm[~case_mm]"
   ]
  },
  {
   "cell_type": "code",
   "execution_count": null,
   "metadata": {},
   "outputs": [],
   "source": [
    "pc_ortho[pc_ortho.Symbol_hg.isin(case_out_hg)]"
   ]
  },
  {
   "cell_type": "code",
   "execution_count": null,
   "metadata": {},
   "outputs": [],
   "source": [
    "pc_ortho[pc_ortho.Symbol_mm.isin(case_out_mm)]"
   ]
  },
  {
   "cell_type": "code",
   "execution_count": null,
   "metadata": {},
   "outputs": [],
   "source": [
    "symbol_case = set(symbol_hg.str.title()).intersection(set(symbol_mm))\n",
    "# case_not_ortho = "
   ]
  },
  {
   "cell_type": "code",
   "execution_count": 64,
   "metadata": {},
   "outputs": [],
   "source": [
    "# missing = set(pc_ortho.Symbol_mm).difference(set(symbol_case))\n",
    "# TODO: pc ortho not in pc dfs\n",
    "missing = pc_ortho[~pc_ortho.Symbol_mm.isin(symbol_case)]\n",
    "\n"
   ]
  },
  {
   "cell_type": "code",
   "execution_count": null,
   "metadata": {},
   "outputs": [],
   "source": [
    "missing"
   ]
  },
  {
   "cell_type": "code",
   "execution_count": null,
   "metadata": {},
   "outputs": [],
   "source": [
    "print(\"SLC33A1\" in pc_hg.Symbol)\n",
    "print(\"Slc33a1\" in pc_mm.Symbol)"
   ]
  },
  {
   "cell_type": "code",
   "execution_count": null,
   "metadata": {},
   "outputs": [],
   "source": [
    "df_hg.shape"
   ]
  },
  {
   "cell_type": "code",
   "execution_count": null,
   "metadata": {},
   "outputs": [],
   "source": [
    "# Use of iloc/loc"
   ]
  }
 ],
 "metadata": {
  "kernelspec": {
   "display_name": "Python 3",
   "language": "python",
   "name": "python3"
  },
  "language_info": {
   "codemirror_mode": {
    "name": "ipython",
    "version": 3
   },
   "file_extension": ".py",
   "mimetype": "text/x-python",
   "name": "python",
   "nbconvert_exporter": "python",
   "pygments_lexer": "ipython3",
   "version": "3.10.13"
  }
 },
 "nbformat": 4,
 "nbformat_minor": 2
}
