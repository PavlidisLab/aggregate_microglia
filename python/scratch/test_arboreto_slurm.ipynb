{
 "cells": [
  {
   "cell_type": "code",
   "execution_count": null,
   "metadata": {},
   "outputs": [],
   "source": [
    "import pandas as pd\n",
    "import numpy as np\n",
    "import random\n",
    "import time\n",
    "import scipy.sparse\n",
    "from arboreto.algo import grnboost2\n",
    "from dask.distributed import Client\n",
    "from dask_jobqueue import SLURMCluster\n",
    "\n",
    "tfs_path = \"/home/amorin/Data/Metadata/TFs_human.tsv\"\n",
    "mat_dense_path = \"/space/scratch/amorin/R_objects/GSE180928_mcg_filt.tsv\"\n",
    "mat_sparse_path = \"/space/scratch/amorin/R_objects/GSE180928_mcg_filt.mtx\"\n",
    "\n",
    "cluster = SLURMCluster(cores=8, \n",
    "                       processes=1,\n",
    "                       memory=\"16GB\",\n",
    "                       account=\"amorin\",\n",
    "                       walltime=\"1:00:00\",\n",
    "                       queue=\"normal\")\n",
    "\n",
    "custom_client = Client(cluster)"
   ]
  },
  {
   "cell_type": "code",
   "execution_count": null,
   "metadata": {},
   "outputs": [],
   "source": [
    "tfs = pd.read_table(tfs_path)[\"Symbol\"].tolist()\n",
    "mat_dense = pd.read_table(mat_dense_path, index_col = 0)\n",
    "mat_sparse = scipy.io.mmread(mat_sparse_path).tocsc()  # CSC needed for arboreto"
   ]
  },
  {
   "cell_type": "code",
   "execution_count": null,
   "metadata": {},
   "outputs": [],
   "source": [
    "# Random subset for speed\n",
    "random.seed(5)\n",
    "samp_ix = random.sample(range(mat_dense.shape[1]), 1000)\n",
    "mat_dense_sub = mat_dense.iloc[:, samp_ix]\n",
    "mat_sparse_sub = mat_sparse[:, samp_ix]\n",
    "tfs_sub = set(tfs).intersection(mat_dense_sub.columns)\n",
    "genes_sub = mat_dense_sub.columns.tolist()"
   ]
  },
  {
   "cell_type": "code",
   "execution_count": null,
   "metadata": {},
   "outputs": [],
   "source": [
    "start = time.time()\n",
    "\n",
    "network_dense = grnboost2(expression_data=mat_dense_sub, \n",
    "                          tf_names=tfs_sub,\n",
    "                          seed=4,\n",
    "                          client_or_address=custom_client)\n",
    "\n",
    "end = time.time()\n",
    "\n",
    "print(end - start)"
   ]
  },
  {
   "cell_type": "code",
   "execution_count": null,
   "metadata": {},
   "outputs": [],
   "source": [
    "start = time.time()\n",
    "\n",
    "network_sparse = grnboost2(expression_data=mat_sparse_sub, \n",
    "                           tf_names=tfs_sub,\n",
    "                           gene_names=genes_sub,\n",
    "                           seed=4,\n",
    "                           client_or_address=custom_client)\n",
    "\n",
    "end = time.time()\n",
    "\n",
    "print(end - start)"
   ]
  },
  {
   "cell_type": "code",
   "execution_count": null,
   "metadata": {},
   "outputs": [],
   "source": [
    "custom_client.close()\n",
    "cluster.close()"
   ]
  }
 ],
 "metadata": {
  "kernelspec": {
   "display_name": "agg",
   "language": "python",
   "name": "python3"
  },
  "language_info": {
   "codemirror_mode": {
    "name": "ipython",
    "version": 3
   },
   "file_extension": ".py",
   "mimetype": "text/x-python",
   "name": "python",
   "nbconvert_exporter": "python",
   "pygments_lexer": "ipython3",
   "version": "3.10.15"
  }
 },
 "nbformat": 4,
 "nbformat_minor": 2
}
