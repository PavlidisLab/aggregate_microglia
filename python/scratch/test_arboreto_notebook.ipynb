{
 "cells": [
  {
   "cell_type": "code",
   "execution_count": 1,
   "metadata": {},
   "outputs": [],
   "source": [
    "import pandas as pd\n",
    "import numpy as np\n",
    "import random\n",
    "import time\n",
    "import scipy.sparse\n",
    "from arboreto.algo import grnboost2\n",
    "from distributed import Client, LocalCluster\n",
    "\n",
    "tfs_path = \"/home/amorin/Data/Metadata/TFs_human.tsv\"\n",
    "mat_dense_path = \"/space/scratch/amorin/R_objects/GSE180928_mcg_filt.tsv\"\n",
    "mat_sparse_path = \"/space/scratch/amorin/R_objects/GSE180928_mcg_filt.mtx\"\n",
    "\n",
    "local_cluster = LocalCluster(n_workers=8, threads_per_worker=1)\n",
    "custom_client = Client(local_cluster)"
   ]
  },
  {
   "cell_type": "code",
   "execution_count": 2,
   "metadata": {},
   "outputs": [],
   "source": [
    "tfs = pd.read_table(tfs_path)[\"Symbol\"].tolist()\n",
    "mat_dense = pd.read_table(mat_dense_path, index_col = 0)\n",
    "mat_sparse = scipy.io.mmread(mat_sparse_path).tocsc()  # CSC needed for arboreto"
   ]
  },
  {
   "cell_type": "code",
   "execution_count": 3,
   "metadata": {},
   "outputs": [],
   "source": [
    "# Random subset for speed\n",
    "random.seed(5)\n",
    "samp_ix = random.sample(range(mat_dense.shape[1]), 5000)\n",
    "mat_dense_sub = mat_dense.iloc[:, samp_ix]\n",
    "mat_sparse_sub = mat_sparse[:, samp_ix]\n",
    "tfs_sub = set(tfs).intersection(mat_dense_sub.columns)\n",
    "genes_sub = mat_dense_sub.columns.tolist()"
   ]
  },
  {
   "cell_type": "code",
   "execution_count": 4,
   "metadata": {},
   "outputs": [
    {
     "data": {
      "text/plain": [
       "True"
      ]
     },
     "execution_count": 4,
     "metadata": {},
     "output_type": "execute_result"
    }
   ],
   "source": [
    "# Checking first column as numpy array to ensure equality\n",
    "d0 = mat_dense_sub.iloc[:, 0].values\n",
    "s0 = mat_sparse_sub[:, 0].toarray().ravel()\n",
    "all(np.isclose(d0, s0))"
   ]
  },
  {
   "cell_type": "code",
   "execution_count": 5,
   "metadata": {},
   "outputs": [
    {
     "name": "stderr",
     "output_type": "stream",
     "text": [
      "/home/amorin/miniconda3/envs/agg/lib/python3.10/site-packages/distributed/client.py:3169: UserWarning: Sending large graph of size 110.72 MiB.\n",
      "This may cause some slowdown.\n",
      "Consider scattering data ahead of time and using futures.\n",
      "  warnings.warn(\n"
     ]
    },
    {
     "name": "stdout",
     "output_type": "stream",
     "text": [
      "198.9852135181427\n"
     ]
    }
   ],
   "source": [
    "start = time.time()\n",
    "\n",
    "network_dense = grnboost2(expression_data=mat_dense_sub, \n",
    "                          tf_names=tfs_sub,\n",
    "                          seed=4,\n",
    "                          client_or_address=custom_client)\n",
    "\n",
    "end = time.time()\n",
    "\n",
    "print(end - start)"
   ]
  },
  {
   "cell_type": "code",
   "execution_count": 6,
   "metadata": {},
   "outputs": [
    {
     "name": "stderr",
     "output_type": "stream",
     "text": [
      "/home/amorin/miniconda3/envs/agg/lib/python3.10/site-packages/distributed/client.py:3169: UserWarning: Sending large graph of size 28.15 MiB.\n",
      "This may cause some slowdown.\n",
      "Consider scattering data ahead of time and using futures.\n",
      "  warnings.warn(\n"
     ]
    },
    {
     "name": "stdout",
     "output_type": "stream",
     "text": [
      "189.47893118858337\n"
     ]
    }
   ],
   "source": [
    "start = time.time()\n",
    "\n",
    "network_sparse = grnboost2(expression_data=mat_sparse_sub, \n",
    "                           tf_names=tfs_sub,\n",
    "                           gene_names=genes_sub,\n",
    "                           seed=4,\n",
    "                           client_or_address=custom_client)\n",
    "\n",
    "end = time.time()\n",
    "\n",
    "print(end - start)"
   ]
  },
  {
   "cell_type": "code",
   "execution_count": 7,
   "metadata": {},
   "outputs": [
    {
     "data": {
      "text/html": [
       "<div>\n",
       "<style scoped>\n",
       "    .dataframe tbody tr th:only-of-type {\n",
       "        vertical-align: middle;\n",
       "    }\n",
       "\n",
       "    .dataframe tbody tr th {\n",
       "        vertical-align: top;\n",
       "    }\n",
       "\n",
       "    .dataframe thead th {\n",
       "        text-align: right;\n",
       "    }\n",
       "</style>\n",
       "<table border=\"1\" class=\"dataframe\">\n",
       "  <thead>\n",
       "    <tr style=\"text-align: right;\">\n",
       "      <th></th>\n",
       "      <th>TF</th>\n",
       "      <th>target</th>\n",
       "      <th>importance</th>\n",
       "    </tr>\n",
       "  </thead>\n",
       "  <tbody>\n",
       "    <tr>\n",
       "      <th>1</th>\n",
       "      <td>HMGB1</td>\n",
       "      <td>SH3BGR</td>\n",
       "      <td>1.379992e+01</td>\n",
       "    </tr>\n",
       "    <tr>\n",
       "      <th>138</th>\n",
       "      <td>MYEF2</td>\n",
       "      <td>CEP19</td>\n",
       "      <td>1.238868e+01</td>\n",
       "    </tr>\n",
       "    <tr>\n",
       "      <th>137</th>\n",
       "      <td>MYEF2</td>\n",
       "      <td>MEIS1</td>\n",
       "      <td>1.224647e+01</td>\n",
       "    </tr>\n",
       "    <tr>\n",
       "      <th>246</th>\n",
       "      <td>RARG</td>\n",
       "      <td>SOX13</td>\n",
       "      <td>1.193636e+01</td>\n",
       "    </tr>\n",
       "    <tr>\n",
       "      <th>96</th>\n",
       "      <td>DEAF1</td>\n",
       "      <td>SYF2</td>\n",
       "      <td>1.156339e+01</td>\n",
       "    </tr>\n",
       "    <tr>\n",
       "      <th>...</th>\n",
       "      <td>...</td>\n",
       "      <td>...</td>\n",
       "      <td>...</td>\n",
       "    </tr>\n",
       "    <tr>\n",
       "      <th>260</th>\n",
       "      <td>ZBTB16</td>\n",
       "      <td>ZNF181</td>\n",
       "      <td>6.564108e-21</td>\n",
       "    </tr>\n",
       "    <tr>\n",
       "      <th>263</th>\n",
       "      <td>TSC22D2</td>\n",
       "      <td>SYT10</td>\n",
       "      <td>6.103199e-21</td>\n",
       "    </tr>\n",
       "    <tr>\n",
       "      <th>120</th>\n",
       "      <td>ARID1A</td>\n",
       "      <td>ALKBH6</td>\n",
       "      <td>5.852440e-21</td>\n",
       "    </tr>\n",
       "    <tr>\n",
       "      <th>97</th>\n",
       "      <td>IRF1</td>\n",
       "      <td>COL4A2</td>\n",
       "      <td>4.961053e-21</td>\n",
       "    </tr>\n",
       "    <tr>\n",
       "      <th>373</th>\n",
       "      <td>MAFB</td>\n",
       "      <td>MCHR2</td>\n",
       "      <td>2.893262e-21</td>\n",
       "    </tr>\n",
       "  </tbody>\n",
       "</table>\n",
       "<p>319451 rows × 3 columns</p>\n",
       "</div>"
      ],
      "text/plain": [
       "          TF  target    importance\n",
       "1      HMGB1  SH3BGR  1.379992e+01\n",
       "138    MYEF2   CEP19  1.238868e+01\n",
       "137    MYEF2   MEIS1  1.224647e+01\n",
       "246     RARG   SOX13  1.193636e+01\n",
       "96     DEAF1    SYF2  1.156339e+01\n",
       "..       ...     ...           ...\n",
       "260   ZBTB16  ZNF181  6.564108e-21\n",
       "263  TSC22D2   SYT10  6.103199e-21\n",
       "120   ARID1A  ALKBH6  5.852440e-21\n",
       "97      IRF1  COL4A2  4.961053e-21\n",
       "373     MAFB   MCHR2  2.893262e-21\n",
       "\n",
       "[319451 rows x 3 columns]"
      ]
     },
     "execution_count": 7,
     "metadata": {},
     "output_type": "execute_result"
    }
   ],
   "source": [
    "network_dense"
   ]
  },
  {
   "cell_type": "code",
   "execution_count": 8,
   "metadata": {},
   "outputs": [
    {
     "data": {
      "text/html": [
       "<div>\n",
       "<style scoped>\n",
       "    .dataframe tbody tr th:only-of-type {\n",
       "        vertical-align: middle;\n",
       "    }\n",
       "\n",
       "    .dataframe tbody tr th {\n",
       "        vertical-align: top;\n",
       "    }\n",
       "\n",
       "    .dataframe thead th {\n",
       "        text-align: right;\n",
       "    }\n",
       "</style>\n",
       "<table border=\"1\" class=\"dataframe\">\n",
       "  <thead>\n",
       "    <tr style=\"text-align: right;\">\n",
       "      <th></th>\n",
       "      <th>TF</th>\n",
       "      <th>target</th>\n",
       "      <th>importance</th>\n",
       "    </tr>\n",
       "  </thead>\n",
       "  <tbody>\n",
       "    <tr>\n",
       "      <th>1</th>\n",
       "      <td>HMGB1</td>\n",
       "      <td>SH3BGR</td>\n",
       "      <td>1.379992e+01</td>\n",
       "    </tr>\n",
       "    <tr>\n",
       "      <th>96</th>\n",
       "      <td>DEAF1</td>\n",
       "      <td>SYF2</td>\n",
       "      <td>1.289276e+01</td>\n",
       "    </tr>\n",
       "    <tr>\n",
       "      <th>138</th>\n",
       "      <td>MYEF2</td>\n",
       "      <td>CEP19</td>\n",
       "      <td>1.238868e+01</td>\n",
       "    </tr>\n",
       "    <tr>\n",
       "      <th>137</th>\n",
       "      <td>MYEF2</td>\n",
       "      <td>MEIS1</td>\n",
       "      <td>1.224647e+01</td>\n",
       "    </tr>\n",
       "    <tr>\n",
       "      <th>1</th>\n",
       "      <td>HMGB1</td>\n",
       "      <td>BHLHE40</td>\n",
       "      <td>1.145334e+01</td>\n",
       "    </tr>\n",
       "    <tr>\n",
       "      <th>...</th>\n",
       "      <td>...</td>\n",
       "      <td>...</td>\n",
       "      <td>...</td>\n",
       "    </tr>\n",
       "    <tr>\n",
       "      <th>50</th>\n",
       "      <td>ELK4</td>\n",
       "      <td>ZNF544</td>\n",
       "      <td>5.022568e-21</td>\n",
       "    </tr>\n",
       "    <tr>\n",
       "      <th>241</th>\n",
       "      <td>ZNF225</td>\n",
       "      <td>IKZF3</td>\n",
       "      <td>3.075267e-21</td>\n",
       "    </tr>\n",
       "    <tr>\n",
       "      <th>373</th>\n",
       "      <td>MAFB</td>\n",
       "      <td>MCHR2</td>\n",
       "      <td>2.893262e-21</td>\n",
       "    </tr>\n",
       "    <tr>\n",
       "      <th>139</th>\n",
       "      <td>ZNF26</td>\n",
       "      <td>NRBP2</td>\n",
       "      <td>2.688361e-21</td>\n",
       "    </tr>\n",
       "    <tr>\n",
       "      <th>411</th>\n",
       "      <td>ZNF302</td>\n",
       "      <td>ORMDL2</td>\n",
       "      <td>1.665877e-21</td>\n",
       "    </tr>\n",
       "  </tbody>\n",
       "</table>\n",
       "<p>319560 rows × 3 columns</p>\n",
       "</div>"
      ],
      "text/plain": [
       "         TF   target    importance\n",
       "1     HMGB1   SH3BGR  1.379992e+01\n",
       "96    DEAF1     SYF2  1.289276e+01\n",
       "138   MYEF2    CEP19  1.238868e+01\n",
       "137   MYEF2    MEIS1  1.224647e+01\n",
       "1     HMGB1  BHLHE40  1.145334e+01\n",
       "..      ...      ...           ...\n",
       "50     ELK4   ZNF544  5.022568e-21\n",
       "241  ZNF225    IKZF3  3.075267e-21\n",
       "373    MAFB    MCHR2  2.893262e-21\n",
       "139   ZNF26    NRBP2  2.688361e-21\n",
       "411  ZNF302   ORMDL2  1.665877e-21\n",
       "\n",
       "[319560 rows x 3 columns]"
      ]
     },
     "execution_count": 8,
     "metadata": {},
     "output_type": "execute_result"
    }
   ],
   "source": [
    "network_sparse"
   ]
  },
  {
   "cell_type": "code",
   "execution_count": 9,
   "metadata": {},
   "outputs": [
    {
     "ename": "ValueError",
     "evalue": "operands could not be broadcast together with shapes (319451,) (319560,) ",
     "output_type": "error",
     "traceback": [
      "\u001b[0;31m---------------------------------------------------------------------------\u001b[0m",
      "\u001b[0;31mValueError\u001b[0m                                Traceback (most recent call last)",
      "Cell \u001b[0;32mIn[9], line 1\u001b[0m\n\u001b[0;32m----> 1\u001b[0m ix \u001b[38;5;241m=\u001b[39m \u001b[43mnp\u001b[49m\u001b[38;5;241;43m.\u001b[39;49m\u001b[43misclose\u001b[49m\u001b[43m(\u001b[49m\u001b[43mnetwork_dense\u001b[49m\u001b[43m[\u001b[49m\u001b[38;5;124;43m\"\u001b[39;49m\u001b[38;5;124;43mimportance\u001b[39;49m\u001b[38;5;124;43m\"\u001b[39;49m\u001b[43m]\u001b[49m\u001b[38;5;241;43m.\u001b[39;49m\u001b[43mtolist\u001b[49m\u001b[43m(\u001b[49m\u001b[43m)\u001b[49m\u001b[43m,\u001b[49m\u001b[43m \u001b[49m\n\u001b[1;32m      2\u001b[0m \u001b[43m                \u001b[49m\u001b[43mnetwork_sparse\u001b[49m\u001b[43m[\u001b[49m\u001b[38;5;124;43m\"\u001b[39;49m\u001b[38;5;124;43mimportance\u001b[39;49m\u001b[38;5;124;43m\"\u001b[39;49m\u001b[43m]\u001b[49m\u001b[38;5;241;43m.\u001b[39;49m\u001b[43mtolist\u001b[49m\u001b[43m(\u001b[49m\u001b[43m)\u001b[49m\u001b[43m)\u001b[49m\n",
      "File \u001b[0;32m~/miniconda3/envs/agg/lib/python3.10/site-packages/numpy/_core/numeric.py:2461\u001b[0m, in \u001b[0;36misclose\u001b[0;34m(a, b, rtol, atol, equal_nan)\u001b[0m\n\u001b[1;32m   2458\u001b[0m     y \u001b[38;5;241m=\u001b[39m \u001b[38;5;28mfloat\u001b[39m(y)\n\u001b[1;32m   2460\u001b[0m \u001b[38;5;28;01mwith\u001b[39;00m errstate(invalid\u001b[38;5;241m=\u001b[39m\u001b[38;5;124m'\u001b[39m\u001b[38;5;124mignore\u001b[39m\u001b[38;5;124m'\u001b[39m), _no_nep50_warning():\n\u001b[0;32m-> 2461\u001b[0m     result \u001b[38;5;241m=\u001b[39m (less_equal(\u001b[38;5;28mabs\u001b[39m(\u001b[43mx\u001b[49m\u001b[38;5;241;43m-\u001b[39;49m\u001b[43my\u001b[49m), atol \u001b[38;5;241m+\u001b[39m rtol \u001b[38;5;241m*\u001b[39m \u001b[38;5;28mabs\u001b[39m(y))\n\u001b[1;32m   2462\u001b[0m               \u001b[38;5;241m&\u001b[39m isfinite(y)\n\u001b[1;32m   2463\u001b[0m               \u001b[38;5;241m|\u001b[39m (x \u001b[38;5;241m==\u001b[39m y))\n\u001b[1;32m   2464\u001b[0m     \u001b[38;5;28;01mif\u001b[39;00m equal_nan:\n\u001b[1;32m   2465\u001b[0m         result \u001b[38;5;241m|\u001b[39m\u001b[38;5;241m=\u001b[39m isnan(x) \u001b[38;5;241m&\u001b[39m isnan(y)\n",
      "\u001b[0;31mValueError\u001b[0m: operands could not be broadcast together with shapes (319451,) (319560,) "
     ]
    }
   ],
   "source": [
    "ix = np.isclose(network_dense[\"importance\"].tolist(), \n",
    "                network_sparse[\"importance\"].tolist())"
   ]
  },
  {
   "cell_type": "code",
   "execution_count": null,
   "metadata": {},
   "outputs": [],
   "source": [
    "network_dense.iloc[~ix, :]"
   ]
  },
  {
   "cell_type": "code",
   "execution_count": null,
   "metadata": {},
   "outputs": [],
   "source": [
    "network_sparse.iloc[~ix, :]"
   ]
  }
 ],
 "metadata": {
  "kernelspec": {
   "display_name": "agg",
   "language": "python",
   "name": "python3"
  },
  "language_info": {
   "codemirror_mode": {
    "name": "ipython",
    "version": 3
   },
   "file_extension": ".py",
   "mimetype": "text/x-python",
   "name": "python",
   "nbconvert_exporter": "python",
   "pygments_lexer": "ipython3",
   "version": "3.10.15"
  }
 },
 "nbformat": 4,
 "nbformat_minor": 2
}
